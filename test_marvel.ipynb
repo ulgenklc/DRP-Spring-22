{
 "cells": [
  {
   "cell_type": "code",
   "execution_count": 1,
   "id": "58d325ee-06d4-4add-b9cd-ea641a9e32c5",
   "metadata": {},
   "outputs": [],
   "source": [
    "import networkx as nx\n",
    "import pandas as pd\n",
    "import matplotlib.pyplot as plt\n",
    "import numpy as np\n",
    "import plotly.graph_objects as go\n",
    "import plotly.express as px\n",
    "from marvel_class import marvel_network"
   ]
  },
  {
   "cell_type": "code",
   "execution_count": 2,
   "id": "8f8f1dc5-5580-4f3d-b773-9fca71c72c17",
   "metadata": {},
   "outputs": [],
   "source": [
    "marvel = pd.read_csv(\"marvel.csv\")"
   ]
  },
  {
   "cell_type": "code",
   "execution_count": 3,
   "id": "86be324e-0292-4fc8-8800-51c93381e9b6",
   "metadata": {},
   "outputs": [],
   "source": [
    "MN = marvel_network(marvel)"
   ]
  },
  {
   "cell_type": "code",
   "execution_count": 4,
   "id": "60f4ea6b-e6a4-4b5d-9c5c-68a7290a9074",
   "metadata": {},
   "outputs": [
    {
     "data": {
      "text/plain": [
       "<networkx.classes.digraph.DiGraph at 0x7fb39133beb0>"
      ]
     },
     "execution_count": 4,
     "metadata": {},
     "output_type": "execute_result"
    }
   ],
   "source": [
    "MN.nx_object"
   ]
  },
  {
   "cell_type": "code",
   "execution_count": null,
   "id": "5d2177dd-e9e4-4f79-80ad-6ba7cd30a588",
   "metadata": {},
   "outputs": [],
   "source": [
    "fig = MN.visualizeGraph(rankingType = '')\n",
    "\n",
    "fig.show()"
   ]
  },
  {
   "cell_type": "code",
   "execution_count": null,
   "id": "cb144bf4-a0e0-428d-9094-97f657fd3d7d",
   "metadata": {},
   "outputs": [],
   "source": []
  },
  {
   "cell_type": "code",
   "execution_count": null,
   "id": "ad989666-d3d9-4b09-ae5f-348e2371573a",
   "metadata": {},
   "outputs": [],
   "source": []
  }
 ],
 "metadata": {
  "kernelspec": {
   "display_name": "Python 3",
   "language": "python",
   "name": "python3"
  },
  "language_info": {
   "codemirror_mode": {
    "name": "ipython",
    "version": 3
   },
   "file_extension": ".py",
   "mimetype": "text/x-python",
   "name": "python",
   "nbconvert_exporter": "python",
   "pygments_lexer": "ipython3",
   "version": "3.8.8"
  }
 },
 "nbformat": 4,
 "nbformat_minor": 5
}

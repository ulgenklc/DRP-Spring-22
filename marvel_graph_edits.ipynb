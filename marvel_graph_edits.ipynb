{
 "cells": [
  {
   "cell_type": "code",
   "execution_count": 95,
   "metadata": {},
   "outputs": [],
   "source": [
    "import networkx as nx\n",
    "import pandas as pd\n",
    "import matplotlib.pyplot as plt\n",
    "import numpy as np\n",
    "import plotly.graph_objects as go\n",
    "import plotly.express as px"
   ]
  },
  {
   "cell_type": "code",
   "execution_count": 29,
   "metadata": {
    "scrolled": true
   },
   "outputs": [],
   "source": [
    "marvel = pd.read_csv(\"marvel.csv\")"
   ]
  },
  {
   "cell_type": "markdown",
   "metadata": {},
   "source": [
    "## Creating the Marvel Partners Graph"
   ]
  },
  {
   "cell_type": "code",
   "execution_count": 14,
   "metadata": {},
   "outputs": [],
   "source": [
    "def createGraphFromDataFrame(df):\n",
    "    marvel_graph = nx.DiGraph() # this creates a directed graph object\n",
    "\n",
    "    list_ = []\n",
    "\n",
    "    # This loop creates the edges for the plot & appends them to a list\n",
    "    for index, row in marvel.iterrows():\n",
    "        list_.append((row[\"source\"] , row[\"target\"]))\n",
    "\n",
    "    marvel_graph.add_edges_from(list_)\n",
    "\n",
    "    return marvel_graph"
   ]
  },
  {
   "cell_type": "markdown",
   "metadata": {},
   "source": [
    "## Creating the Marvel Graph adjacency matrix"
   ]
  },
  {
   "cell_type": "code",
   "execution_count": 35,
   "metadata": {},
   "outputs": [],
   "source": [
    "def createAdjacencyMatrix(graph):\n",
    "    marvel_adj = nx.to_numpy_array(graph) # This creates the adjacency array for the digraph\n",
    "    return marvel_adj"
   ]
  },
  {
   "cell_type": "markdown",
   "metadata": {},
   "source": [
    "# Degree Frequency Distribution"
   ]
  },
  {
   "cell_type": "code",
   "execution_count": 46,
   "metadata": {},
   "outputs": [],
   "source": [
    "# In degrees\n",
    "def createDegreeFrequencyDist(graph, binsizes, inOrOut):\n",
    "    adj = createAdjacencyMatrix(graph)\n",
    "    row_sums = adj.sum(axis=0)            # This finds the different degrees for each node in a node\n",
    "    col_sums = adj.sum(axis=1)            # This finds the different degrees for each node in a column\n",
    "    fig, ax = plt.subplots(1,3, figsize = (24,8))\n",
    "\n",
    "    titleString = \"Degree Distributions for Binsizes \"\n",
    "    if inOrOut == \"In\":\n",
    "        for i,e in enumerate(binsizes):\n",
    "            titleString += str(e)\n",
    "            n, bins, patches = ax[i].hist(row_sums, bins=np.arange(e))\n",
    "            ax[i].set(xlabel=\"Degrees\", ylabel=\"Frequency\", title=titleString)\n",
    "\n",
    "        plt.show()\n",
    "        \n",
    "        # Out Degrees\n",
    "    else:\n",
    "        fig, ax = plt.subplots(1,3, figsize = (24,8))\n",
    "\n",
    "        for i,e in enumerate(binsize):\n",
    "            n, bins, patches = ax[i].hist(col_sums, bins=np.arange(e))  \n",
    "            ax[i].set(xlabel=\"Degrees\", ylabel=\"Frequency\", title=\"Degree Distributions for Binsizes 10, 20, 30\")\n",
    "\n",
    "        plt.show()"
   ]
  },
  {
   "cell_type": "code",
   "execution_count": 47,
   "metadata": {},
   "outputs": [
    {
     "data": {
      "image/png": "[encoded data removed]",
      "text/plain": [
       "<Figure size 1728x576 with 3 Axes>"
      ]
     },
     "metadata": {
      "needs_background": "light"
     },
     "output_type": "display_data"
    }
   ],
   "source": [
    "g = createGraphFromDataFrame(marvel)\n",
    "createDegreeFrequencyDist(g, [10, 20, 30], \"In\")"
   ]
  },
  {
   "cell_type": "markdown",
   "metadata": {},
   "source": [
    "# Graph Densities"
   ]
  },
  {
   "cell_type": "markdown",
   "metadata": {},
   "source": [
    "The density of a graph represents the ratio between the edges present in a graph and the maximum number of edges that at that the graph can contain.\n",
    "\n",
    "The density for undirected graphs is \n",
    "\n",
    "$$d = \\frac{2m}{n(n-1)}$$\n",
    "\n",
    "and for directed graphs is\n",
    "\n",
    "$$d = \\frac{m}{n(n-1)}$$\n",
    "\n",
    "where $n$ is the number of nodes and $m$ is the number of edges in the graph."
   ]
  },
  {
   "cell_type": "markdown",
   "metadata": {},
   "source": [
    "The `density(G)` method finds these densities."
   ]
  },
  {
   "cell_type": "code",
   "execution_count": 20,
   "metadata": {},
   "outputs": [],
   "source": [
    "def density(graph):\n",
    "    density = nx.density(graph)\n",
    "    return density"
   ]
  },
  {
   "cell_type": "markdown",
   "metadata": {},
   "source": [
    "# Clustering Coefficient\n",
    "A clustering coefficient measures the degree to which nodes in a graph tend to cluster together.\n",
    "\n",
    "For unweighted graphs, the clustering of a node _$u$_ is the fraction of possible triangles through that node that exists. In other words, how many triangles can you create with that node from other trangles and nodes.\n",
    "\n",
    "$$c_u = \\frac{2T(u)}{deg(u)(deg(u) - 1)} \\Sigma_{vw}(\\hat{w}_{uv}\\hat{w}_{uw}\\hat{w}_{vw})^{\\frac{1}{3}}$$\n",
    "\n",
    "The `clustering(G, nodes=None, weight=None)` finds the clustering coefficients."
   ]
  },
  {
   "cell_type": "code",
   "execution_count": 21,
   "metadata": {},
   "outputs": [],
   "source": [
    "def findClusters(graph):\n",
    "    cluster_coefficient = nx.clustering(graph)\n",
    "    return cluster_coefficient"
   ]
  },
  {
   "cell_type": "markdown",
   "metadata": {},
   "source": [
    "# Centrality Measures"
   ]
  },
  {
   "cell_type": "code",
   "execution_count": 92,
   "metadata": {},
   "outputs": [],
   "source": [
    "def centralityMeasure(g):\n",
    "    return nx.degree_centrality(g)"
   ]
  },
  {
   "cell_type": "markdown",
   "metadata": {},
   "source": [
    "# Cliques\n",
    "A **clique** is a subset of vertices of an undirected graph such that every two distinct vertices in the clique are adjacent. That is, a clique of a graph $G$ is an induced subgraph of $G$ that is complete.\n",
    "\n",
    "In simple terms, all nodes connect to all nodes and there does not exist a single node with a degree of one."
   ]
  },
  {
   "cell_type": "markdown",
   "metadata": {},
   "source": [
    "# Visualizing the Marvel Character Graph"
   ]
  },
  {
   "cell_type": "code",
   "execution_count": 48,
   "metadata": {
    "scrolled": true
   },
   "outputs": [],
   "source": [
    "# Creating edges\n",
    "def visualizeGraph(graph):\n",
    "    pos = nx.random_layout(graph)\n",
    "    new_pos = {}\n",
    "\n",
    "    for vals in pos.items():\n",
    "        pos.update({vals[0]: {\"pos\": list(vals[1])}})\n",
    "    nx.set_node_attributes(graph, pos)\n",
    "\n",
    "    edge_x = []\n",
    "    edge_y = []\n",
    "\n",
    "    for edge in marvel_graph.edges():\n",
    "        x0, y0 = graph.nodes[edge[0]]['pos']\n",
    "        x1, y1 = graph.nodes[edge[1]]['pos']\n",
    "        edge_x.append(x0)\n",
    "        edge_x.append(x1)\n",
    "        edge_x.append(None)\n",
    "        edge_y.append(y0)\n",
    "        edge_y.append(y1)\n",
    "        edge_y.append(None)\n",
    "\n",
    "    edge_trace = go.Scatter(\n",
    "        x=edge_x, y=edge_y,\n",
    "        line=dict(width=0.5, color='#888'),\n",
    "        hoverinfo='none',\n",
    "        mode='lines')\n",
    "\n",
    "    node_x = []\n",
    "    node_y = []\n",
    "    for node in graph.nodes():\n",
    "        x, y = mgraph.nodes[node]['pos']\n",
    "        node_x.append(x)\n",
    "        node_y.append(y)\n",
    "\n",
    "    node_text = []\n",
    "    for node in graph.nodes:\n",
    "        node_text.append(node)\n",
    "\n",
    "    \n",
    "    node_trace = go.Scatter(\n",
    "        x=node_x, y=node_y,\n",
    "        mode='markers',\n",
    "        hoverinfo='text',\n",
    "        marker=dict(\n",
    "            showscale=True,\n",
    "            # colorscale options\n",
    "            #'Greys' | 'YlGnBu' | 'Greens' | 'YlOrRd' | 'Bluered' | 'RdBu' |\n",
    "            #'Reds' | 'Blues' | 'Picnic' | 'Rainbow' | 'Portland' | 'Jet' |\n",
    "            #'Hot' | 'Blackbody' | 'Earth' | 'Electric' | 'Viridis' |\n",
    "            colorscale='YlGnBu',\n",
    "            reversescale=True,\n",
    "            color=[],\n",
    "            size=10,\n",
    "            colorbar=dict(\n",
    "                thickness=15,\n",
    "                title='Node Connections',\n",
    "                xanchor='left',\n",
    "                titleside='right'\n",
    "            ),\n",
    "            line_width=2))\n",
    "    node_trace.text = node_text\n",
    "\n",
    "\n",
    "    # Creating Viz\n",
    "    fig = go.Figure(data=[edge_trace, node_trace],\n",
    "                 layout=go.Layout(\n",
    "                    title='<br>Marvel Character Representation',\n",
    "                    titlefont_size=16,\n",
    "                    showlegend=False,\n",
    "                    hovermode='closest',\n",
    "                    margin=dict(b=20,l=5,r=5,t=40),\n",
    "                    annotations=[ dict(\n",
    "                        text=\"Python code: <a href='https://plotly.com/ipython-notebooks/network-graphs/'> https://plotly.com/ipython-notebooks/network-graphs/</a>\",\n",
    "                        showarrow=False,\n",
    "                        xref=\"paper\", yref=\"paper\",\n",
    "                        x=0.005, y=-0.002 ) ],\n",
    "                    xaxis=dict(showgrid=False, zeroline=False, showticklabels=False),\n",
    "                    yaxis=dict(showgrid=False, zeroline=False, showticklabels=False))\n",
    "                    )\n",
    "    fig.show()\n",
    "\n"
   ]
  },
  {
   "cell_type": "code",
   "execution_count": 109,
   "metadata": {},
   "outputs": [],
   "source": [
    "def createCentralityHist(g):\n",
    "    df = pd.DataFrame.from_dict(centralityMeasure(g), orient ='index', columns=[\"frequency\"])\n",
    "#     df = px.data.tips()\n",
    "    # Here we use a column with categorical data\n",
    "    fig = px.histogram(df, x=\"frequency\", title=\"Centrality Measures\")\n",
    "    fig.show()\n",
    "    \n",
    "    "
   ]
  },
  {
   "cell_type": "code",
   "execution_count": 110,
   "metadata": {
    "scrolled": true
   },
   "outputs": [
    {
     "data": {
      "application/vnd.plotly.v1+json": {
       "config": {
        "plotlyServerURL": "https://plot.ly"
       },
       "data": [
        {
         "alignmentgroup": "True",
         "bingroup": "x",
         "hovertemplate": "frequency=%{x}<br>count=%{y}<extra></extra>",
         "legendgroup": "",
         "marker": {
          "color": "#636efa"
         },
         "name": "",
         "offsetgroup": "",
         "orientation": "v",
         "showlegend": false,
         "type": "histogram",
         "x": [
          0.005780346820809248,
          0.005780346820809248,
          0.002890173410404624,
          0.008670520231213872,
          0.005780346820809248,
          0.008670520231213872,
          0.005780346820809248,
          0.002890173410404624,
          0.002890173410404624,
          0.002890173410404624,
          0.011560693641618497,
          0.002890173410404624,
          0.005780346820809248,
          0.002890173410404624,
          0.002890173410404624,
          0.002890173410404624,
          0.014450867052023121,
          0.002890173410404624,
          0.005780346820809248,
          0.002890173410404624,
          0.002890173410404624,
          0.017341040462427744,
          0.014450867052023121,
          0.011560693641618497,
          0.03468208092485549,
          0.005780346820809248,
          0.026011560693641616,
          0.005780346820809248,
          0.002890173410404624,
          0.002890173410404624,
          0.014450867052023121,
          0.002890173410404624,
          0.002890173410404624,
          0.002890173410404624,
          0.002890173410404624,
          0.002890173410404624,
          0.005780346820809248,
          0.002890173410404624,
          0.002890173410404624,
          0.002890173410404624,
          0.002890173410404624,
          0.002890173410404624,
          0.005780346820809248,
          0.005780346820809248,
          0.008670520231213872,
          0.011560693641618497,
          0.008670520231213872,
          0.008670520231213872,
          0.005780346820809248,
          0.017341040462427744,
          0.002890173410404624,
          0.008670520231213872,
          0.005780346820809248,
          0.005780346820809248,
          0.014450867052023121,
          0.008670520231213872,
          0.014450867052023121,
          0.005780346820809248,
          0.028901734104046242,
          0.002890173410404624,
          0.02023121387283237,
          0.002890173410404624,
          0.005780346820809248,
          0.002890173410404624,
          0.011560693641618497,
          0.002890173410404624,
          0.005780346820809248,
          0.008670520231213872,
          0.002890173410404624,
          0.014450867052023121,
          0.002890173410404624,
          0.008670520231213872,
          0.002890173410404624,
          0.002890173410404624,
          0.002890173410404624,
          0.002890173410404624,
          0.002890173410404624,
          0.002890173410404624,
          0.005780346820809248,
          0.002890173410404624,
          0.002890173410404624,
          0.002890173410404624,
          0.002890173410404624,
          0.002890173410404624,
          0.005780346820809248,
          0.002890173410404624,
          0.002890173410404624,
          0.002890173410404624,
          0.014450867052023121,
          0.002890173410404624,
          0.002890173410404624,
          0.005780346820809248,
          0.002890173410404624,
          0.008670520231213872,
          0.005780346820809248,
          0.002890173410404624,
          0.008670520231213872,
          0.008670520231213872,
          0.005780346820809248,
          0.008670520231213872,
          0.005780346820809248,
          0.008670520231213872,
          0.005780346820809248,
          0.002890173410404624,
          0.005780346820809248,
          0.002890173410404624,
          0.014450867052023121,
          0.002890173410404624,
          0.005780346820809248,
          0.002890173410404624,
          0.005780346820809248,
          0.005780346820809248,
          0.002890173410404624,
          0.005780346820809248,
          0.002890173410404624,
          0.002890173410404624,
          0.002890173410404624,
          0.002890173410404624,
          0.008670520231213872,
          0.002890173410404624,
          0.002890173410404624,
          0.023121387283236993,
          0.002890173410404624,
          0.008670520231213872,
          0.005780346820809248,
          0.002890173410404624,
          0.017341040462427744,
          0.008670520231213872,
          0.011560693641618497,
          0.005780346820809248,
          0.005780346820809248,
          0.023121387283236993,
          0.002890173410404624,
          0.002890173410404624,
          0.008670520231213872,
          0.014450867052023121,
          0.002890173410404624,
          0.008670520231213872,
          0.005780346820809248,
          0.002890173410404624,
          0.005780346820809248,
          0.002890173410404624,
          0.005780346820809248,
          0.005780346820809248,
          0.002890173410404624,
          0.005780346820809248,
          0.002890173410404624,
          0.014450867052023121,
          0.002890173410404624,
          0.002890173410404624,
          0.005780346820809248,
          0.002890173410404624,
          0.002890173410404624,
          0.011560693641618497,
          0.002890173410404624,
          0.014450867052023121,
          0.005780346820809248,
          0.002890173410404624,
          0.002890173410404624,
          0.002890173410404624,
          0.005780346820809248,
          0.002890173410404624,
          0.002890173410404624,
          0.002890173410404624,
          0.002890173410404624,
          0.017341040462427744,
          0.002890173410404624,
          0.005780346820809248,
          0.011560693641618497,
          0.008670520231213872,
          0.014450867052023121,
          0.005780346820809248,
          0.005780346820809248,
          0.005780346820809248,
          0.002890173410404624,
          0.014450867052023121,
          0.002890173410404624,
          0.002890173410404624,
          0.005780346820809248,
          0.002890173410404624,
          0.002890173410404624,
          0.005780346820809248,
          0.002890173410404624,
          0.005780346820809248,
          0.005780346820809248,
          0.008670520231213872,
          0.008670520231213872,
          0.008670520231213872,
          0.005780346820809248,
          0.002890173410404624,
          0.005780346820809248,
          0.002890173410404624,
          0.005780346820809248,
          0.014450867052023121,
          0.014450867052023121,
          0.014450867052023121,
          0.011560693641618497,
          0.014450867052023121,
          0.002890173410404624,
          0.011560693641618497,
          0.002890173410404624,
          0.002890173410404624,
          0.008670520231213872,
          0.002890173410404624,
          0.011560693641618497,
          0.002890173410404624,
          0.005780346820809248,
          0.005780346820809248,
          0.002890173410404624,
          0.002890173410404624,
          0.002890173410404624,
          0.002890173410404624,
          0.014450867052023121,
          0.005780346820809248,
          0.014450867052023121,
          0.002890173410404624,
          0.005780346820809248,
          0.002890173410404624,
          0.002890173410404624,
          0.002890173410404624,
          0.002890173410404624,
          0.017341040462427744,
          0.005780346820809248,
          0.005780346820809248,
          0.005780346820809248,
          0.008670520231213872,
          0.005780346820809248,
          0.002890173410404624,
          0.002890173410404624,
          0.002890173410404624,
          0.002890173410404624,
          0.005780346820809248,
          0.002890173410404624,
          0.002890173410404624,
          0.002890173410404624,
          0.002890173410404624,
          0.002890173410404624,
          0.002890173410404624,
          0.005780346820809248,
          0.008670520231213872,
          0.005780346820809248,
          0.005780346820809248,
          0.005780346820809248,
          0.005780346820809248,
          0.005780346820809248,
          0.002890173410404624,
          0.002890173410404624,
          0.002890173410404624,
          0.005780346820809248,
          0.002890173410404624,
          0.002890173410404624,
          0.002890173410404624,
          0.002890173410404624,
          0.008670520231213872,
          0.005780346820809248,
          0.002890173410404624,
          0.002890173410404624,
          0.002890173410404624,
          0.008670520231213872,
          0.002890173410404624,
          0.002890173410404624,
          0.005780346820809248,
          0.008670520231213872,
          0.002890173410404624,
          0.002890173410404624,
          0.002890173410404624,
          0.005780346820809248,
          0.002890173410404624,
          0.002890173410404624,
          0.002890173410404624,
          0.011560693641618497,
          0.002890173410404624,
          0.002890173410404624,
          0.002890173410404624,
          0.002890173410404624,
          0.002890173410404624,
          0.005780346820809248,
          0.002890173410404624,
          0.002890173410404624,
          0.002890173410404624,
          0.002890173410404624,
          0.002890173410404624,
          0.005780346820809248,
          0.002890173410404624,
          0.005780346820809248,
          0.008670520231213872,
          0.008670520231213872,
          0.002890173410404624,
          0.005780346820809248,
          0.005780346820809248,
          0.002890173410404624,
          0.008670520231213872,
          0.002890173410404624,
          0.002890173410404624,
          0.002890173410404624,
          0.002890173410404624,
          0.002890173410404624,
          0.002890173410404624,
          0.002890173410404624,
          0.005780346820809248,
          0.008670520231213872,
          0.002890173410404624,
          0.002890173410404624,
          0.011560693641618497,
          0.002890173410404624,
          0.002890173410404624,
          0.002890173410404624,
          0.002890173410404624,
          0.008670520231213872,
          0.002890173410404624,
          0.008670520231213872,
          0.005780346820809248,
          0.002890173410404624,
          0.011560693641618497,
          0.002890173410404624,
          0.002890173410404624,
          0.002890173410404624,
          0.005780346820809248,
          0.002890173410404624,
          0.002890173410404624,
          0.002890173410404624,
          0.002890173410404624,
          0.002890173410404624,
          0.005780346820809248,
          0.002890173410404624,
          0.005780346820809248,
          0.005780346820809248,
          0.002890173410404624,
          0.002890173410404624,
          0.002890173410404624,
          0.002890173410404624,
          0.005780346820809248,
          0.005780346820809248,
          0.002890173410404624,
          0.005780346820809248,
          0.002890173410404624,
          0.002890173410404624,
          0.002890173410404624,
          0.002890173410404624,
          0.002890173410404624,
          0.005780346820809248,
          0.002890173410404624,
          0.002890173410404624,
          0.002890173410404624,
          0.002890173410404624,
          0.002890173410404624,
          0.002890173410404624
         ],
         "xaxis": "x",
         "yaxis": "y"
        }
       ],
       "layout": {
        "barmode": "relative",
        "legend": {
         "tracegroupgap": 0
        },
        "template": {
         "data": {
          "bar": [
           {
            "error_x": {
             "color": "#2a3f5f"
            },
            "error_y": {
             "color": "#2a3f5f"
            },
            "marker": {
             "line": {
              "color": "#E5ECF6",
              "width": 0.5
             }
            },
            "type": "bar"
           }
          ],
          "barpolar": [
           {
            "marker": {
             "line": {
              "color": "#E5ECF6",
              "width": 0.5
             }
            },
            "type": "barpolar"
           }
          ],
          "carpet": [
           {
            "aaxis": {
             "endlinecolor": "#2a3f5f",
             "gridcolor": "white",
             "linecolor": "white",
             "minorgridcolor": "white",
             "startlinecolor": "#2a3f5f"
            },
            "baxis": {
             "endlinecolor": "#2a3f5f",
             "gridcolor": "white",
             "linecolor": "white",
             "minorgridcolor": "white",
             "startlinecolor": "#2a3f5f"
            },
            "type": "carpet"
           }
          ],
          "choropleth": [
           {
            "colorbar": {
             "outlinewidth": 0,
             "ticks": ""
            },
            "type": "choropleth"
           }
          ],
          "contour": [
           {
            "colorbar": {
             "outlinewidth": 0,
             "ticks": ""
            },
            "colorscale": [
             [
              0,
              "#0d0887"
             ],
             [
              0.1111111111111111,
              "#46039f"
             ],
             [
              0.2222222222222222,
              "#7201a8"
             ],
             [
              0.3333333333333333,
              "#9c179e"
             ],
             [
              0.4444444444444444,
              "#bd3786"
             ],
             [
              0.5555555555555556,
              "#d8576b"
             ],
             [
              0.6666666666666666,
              "#ed7953"
             ],
             [
              0.7777777777777778,
              "#fb9f3a"
             ],
             [
              0.8888888888888888,
              "#fdca26"
             ],
             [
              1,
              "#f0f921"
             ]
            ],
            "type": "contour"
           }
          ],
          "contourcarpet": [
           {
            "colorbar": {
             "outlinewidth": 0,
             "ticks": ""
            },
            "type": "contourcarpet"
           }
          ],
          "heatmap": [
           {
            "colorbar": {
             "outlinewidth": 0,
             "ticks": ""
            },
            "colorscale": [
             [
              0,
              "#0d0887"
             ],
             [
              0.1111111111111111,
              "#46039f"
             ],
             [
              0.2222222222222222,
              "#7201a8"
             ],
             [
              0.3333333333333333,
              "#9c179e"
             ],
             [
              0.4444444444444444,
              "#bd3786"
             ],
             [
              0.5555555555555556,
              "#d8576b"
             ],
             [
              0.6666666666666666,
              "#ed7953"
             ],
             [
              0.7777777777777778,
              "#fb9f3a"
             ],
             [
              0.8888888888888888,
              "#fdca26"
             ],
             [
              1,
              "#f0f921"
             ]
            ],
            "type": "heatmap"
           }
          ],
          "heatmapgl": [
           {
            "colorbar": {
             "outlinewidth": 0,
             "ticks": ""
            },
            "colorscale": [
             [
              0,
              "#0d0887"
             ],
             [
              0.1111111111111111,
              "#46039f"
             ],
             [
              0.2222222222222222,
              "#7201a8"
             ],
             [
              0.3333333333333333,
              "#9c179e"
             ],
             [
              0.4444444444444444,
              "#bd3786"
             ],
             [
              0.5555555555555556,
              "#d8576b"
             ],
             [
              0.6666666666666666,
              "#ed7953"
             ],
             [
              0.7777777777777778,
              "#fb9f3a"
             ],
             [
              0.8888888888888888,
              "#fdca26"
             ],
             [
              1,
              "#f0f921"
             ]
            ],
            "type": "heatmapgl"
           }
          ],
          "histogram": [
           {
            "marker": {
             "colorbar": {
              "outlinewidth": 0,
              "ticks": ""
             }
            },
            "type": "histogram"
           }
          ],
          "histogram2d": [
           {
            "colorbar": {
             "outlinewidth": 0,
             "ticks": ""
            },
            "colorscale": [
             [
              0,
              "#0d0887"
             ],
             [
              0.1111111111111111,
              "#46039f"
             ],
             [
              0.2222222222222222,
              "#7201a8"
             ],
             [
              0.3333333333333333,
              "#9c179e"
             ],
             [
              0.4444444444444444,
              "#bd3786"
             ],
             [
              0.5555555555555556,
              "#d8576b"
             ],
             [
              0.6666666666666666,
              "#ed7953"
             ],
             [
              0.7777777777777778,
              "#fb9f3a"
             ],
             [
              0.8888888888888888,
              "#fdca26"
             ],
             [
              1,
              "#f0f921"
             ]
            ],
            "type": "histogram2d"
           }
          ],
          "histogram2dcontour": [
           {
            "colorbar": {
             "outlinewidth": 0,
             "ticks": ""
            },
            "colorscale": [
             [
              0,
              "#0d0887"
             ],
             [
              0.1111111111111111,
              "#46039f"
             ],
             [
              0.2222222222222222,
              "#7201a8"
             ],
             [
              0.3333333333333333,
              "#9c179e"
             ],
             [
              0.4444444444444444,
              "#bd3786"
             ],
             [
              0.5555555555555556,
              "#d8576b"
             ],
             [
              0.6666666666666666,
              "#ed7953"
             ],
             [
              0.7777777777777778,
              "#fb9f3a"
             ],
             [
              0.8888888888888888,
              "#fdca26"
             ],
             [
              1,
              "#f0f921"
             ]
            ],
            "type": "histogram2dcontour"
           }
          ],
          "mesh3d": [
           {
            "colorbar": {
             "outlinewidth": 0,
             "ticks": ""
            },
            "type": "mesh3d"
           }
          ],
          "parcoords": [
           {
            "line": {
             "colorbar": {
              "outlinewidth": 0,
              "ticks": ""
             }
            },
            "type": "parcoords"
           }
          ],
          "pie": [
           {
            "automargin": true,
            "type": "pie"
           }
          ],
          "scatter": [
           {
            "marker": {
             "colorbar": {
              "outlinewidth": 0,
              "ticks": ""
             }
            },
            "type": "scatter"
           }
          ],
          "scatter3d": [
           {
            "line": {
             "colorbar": {
              "outlinewidth": 0,
              "ticks": ""
             }
            },
            "marker": {
             "colorbar": {
              "outlinewidth": 0,
              "ticks": ""
             }
            },
            "type": "scatter3d"
           }
          ],
          "scattercarpet": [
           {
            "marker": {
             "colorbar": {
              "outlinewidth": 0,
              "ticks": ""
             }
            },
            "type": "scattercarpet"
           }
          ],
          "scattergeo": [
           {
            "marker": {
             "colorbar": {
              "outlinewidth": 0,
              "ticks": ""
             }
            },
            "type": "scattergeo"
           }
          ],
          "scattergl": [
           {
            "marker": {
             "colorbar": {
              "outlinewidth": 0,
              "ticks": ""
             }
            },
            "type": "scattergl"
           }
          ],
          "scattermapbox": [
           {
            "marker": {
             "colorbar": {
              "outlinewidth": 0,
              "ticks": ""
             }
            },
            "type": "scattermapbox"
           }
          ],
          "scatterpolar": [
           {
            "marker": {
             "colorbar": {
              "outlinewidth": 0,
              "ticks": ""
             }
            },
            "type": "scatterpolar"
           }
          ],
          "scatterpolargl": [
           {
            "marker": {
             "colorbar": {
              "outlinewidth": 0,
              "ticks": ""
             }
            },
            "type": "scatterpolargl"
           }
          ],
          "scatterternary": [
           {
            "marker": {
             "colorbar": {
              "outlinewidth": 0,
              "ticks": ""
             }
            },
            "type": "scatterternary"
           }
          ],
          "surface": [
           {
            "colorbar": {
             "outlinewidth": 0,
             "ticks": ""
            },
            "colorscale": [
             [
              0,
              "#0d0887"
             ],
             [
              0.1111111111111111,
              "#46039f"
             ],
             [
              0.2222222222222222,
              "#7201a8"
             ],
             [
              0.3333333333333333,
              "#9c179e"
             ],
             [
              0.4444444444444444,
              "#bd3786"
             ],
             [
              0.5555555555555556,
              "#d8576b"
             ],
             [
              0.6666666666666666,
              "#ed7953"
             ],
             [
              0.7777777777777778,
              "#fb9f3a"
             ],
             [
              0.8888888888888888,
              "#fdca26"
             ],
             [
              1,
              "#f0f921"
             ]
            ],
            "type": "surface"
           }
          ],
          "table": [
           {
            "cells": {
             "fill": {
              "color": "#EBF0F8"
             },
             "line": {
              "color": "white"
             }
            },
            "header": {
             "fill": {
              "color": "#C8D4E3"
             },
             "line": {
              "color": "white"
             }
            },
            "type": "table"
           }
          ]
         },
         "layout": {
          "annotationdefaults": {
           "arrowcolor": "#2a3f5f",
           "arrowhead": 0,
           "arrowwidth": 1
          },
          "autotypenumbers": "strict",
          "coloraxis": {
           "colorbar": {
            "outlinewidth": 0,
            "ticks": ""
           }
          },
          "colorscale": {
           "diverging": [
            [
             0,
             "#8e0152"
            ],
            [
             0.1,
             "#c51b7d"
            ],
            [
             0.2,
             "#de77ae"
            ],
            [
             0.3,
             "#f1b6da"
            ],
            [
             0.4,
             "#fde0ef"
            ],
            [
             0.5,
             "#f7f7f7"
            ],
            [
             0.6,
             "#e6f5d0"
            ],
            [
             0.7,
             "#b8e186"
            ],
            [
             0.8,
             "#7fbc41"
            ],
            [
             0.9,
             "#4d9221"
            ],
            [
             1,
             "#276419"
            ]
           ],
           "sequential": [
            [
             0,
             "#0d0887"
            ],
            [
             0.1111111111111111,
             "#46039f"
            ],
            [
             0.2222222222222222,
             "#7201a8"
            ],
            [
             0.3333333333333333,
             "#9c179e"
            ],
            [
             0.4444444444444444,
             "#bd3786"
            ],
            [
             0.5555555555555556,
             "#d8576b"
            ],
            [
             0.6666666666666666,
             "#ed7953"
            ],
            [
             0.7777777777777778,
             "#fb9f3a"
            ],
            [
             0.8888888888888888,
             "#fdca26"
            ],
            [
             1,
             "#f0f921"
            ]
           ],
           "sequentialminus": [
            [
             0,
             "#0d0887"
            ],
            [
             0.1111111111111111,
             "#46039f"
            ],
            [
             0.2222222222222222,
             "#7201a8"
            ],
            [
             0.3333333333333333,
             "#9c179e"
            ],
            [
             0.4444444444444444,
             "#bd3786"
            ],
            [
             0.5555555555555556,
             "#d8576b"
            ],
            [
             0.6666666666666666,
             "#ed7953"
            ],
            [
             0.7777777777777778,
             "#fb9f3a"
            ],
            [
             0.8888888888888888,
             "#fdca26"
            ],
            [
             1,
             "#f0f921"
            ]
           ]
          },
          "colorway": [
           "#636efa",
           "#EF553B",
           "#00cc96",
           "#ab63fa",
           "#FFA15A",
           "#19d3f3",
           "#FF6692",
           "#B6E880",
           "#FF97FF",
           "#FECB52"
          ],
          "font": {
           "color": "#2a3f5f"
          },
          "geo": {
           "bgcolor": "white",
           "lakecolor": "white",
           "landcolor": "#E5ECF6",
           "showlakes": true,
           "showland": true,
           "subunitcolor": "white"
          },
          "hoverlabel": {
           "align": "left"
          },
          "hovermode": "closest",
          "mapbox": {
           "style": "light"
          },
          "paper_bgcolor": "white",
          "plot_bgcolor": "#E5ECF6",
          "polar": {
           "angularaxis": {
            "gridcolor": "white",
            "linecolor": "white",
            "ticks": ""
           },
           "bgcolor": "#E5ECF6",
           "radialaxis": {
            "gridcolor": "white",
            "linecolor": "white",
            "ticks": ""
           }
          },
          "scene": {
           "xaxis": {
            "backgroundcolor": "#E5ECF6",
            "gridcolor": "white",
            "gridwidth": 2,
            "linecolor": "white",
            "showbackground": true,
            "ticks": "",
            "zerolinecolor": "white"
           },
           "yaxis": {
            "backgroundcolor": "#E5ECF6",
            "gridcolor": "white",
            "gridwidth": 2,
            "linecolor": "white",
            "showbackground": true,
            "ticks": "",
            "zerolinecolor": "white"
           },
           "zaxis": {
            "backgroundcolor": "#E5ECF6",
            "gridcolor": "white",
            "gridwidth": 2,
            "linecolor": "white",
            "showbackground": true,
            "ticks": "",
            "zerolinecolor": "white"
           }
          },
          "shapedefaults": {
           "line": {
            "color": "#2a3f5f"
           }
          },
          "ternary": {
           "aaxis": {
            "gridcolor": "white",
            "linecolor": "white",
            "ticks": ""
           },
           "baxis": {
            "gridcolor": "white",
            "linecolor": "white",
            "ticks": ""
           },
           "bgcolor": "#E5ECF6",
           "caxis": {
            "gridcolor": "white",
            "linecolor": "white",
            "ticks": ""
           }
          },
          "title": {
           "x": 0.05
          },
          "xaxis": {
           "automargin": true,
           "gridcolor": "white",
           "linecolor": "white",
           "ticks": "",
           "title": {
            "standoff": 15
           },
           "zerolinecolor": "white",
           "zerolinewidth": 2
          },
          "yaxis": {
           "automargin": true,
           "gridcolor": "white",
           "linecolor": "white",
           "ticks": "",
           "title": {
            "standoff": 15
           },
           "zerolinecolor": "white",
           "zerolinewidth": 2
          }
         }
        },
        "title": {
         "text": "Centrality Measures"
        },
        "xaxis": {
         "anchor": "y",
         "domain": [
          0,
          1
         ],
         "title": {
          "text": "frequency"
         }
        },
        "yaxis": {
         "anchor": "x",
         "domain": [
          0,
          1
         ],
         "title": {
          "text": "count"
         }
        }
       }
      },
      "text/html": [
       "<div>                            <div id=\"c4f164a7-ec77-4ea8-8d83-487606737c84\" class=\"plotly-graph-div\" style=\"height:525px; width:100%;\"></div>            <script type=\"text/javascript\">                require([\"plotly\"], function(Plotly) {                    window.PLOTLYENV=window.PLOTLYENV || {};                                    if (document.getElementById(\"c4f164a7-ec77-4ea8-8d83-487606737c84\")) {                    Plotly.newPlot(                        \"c4f164a7-ec77-4ea8-8d83-487606737c84\",                        [{\"alignmentgroup\": \"True\", \"bingroup\": \"x\", \"hovertemplate\": \"frequency=%{x}<br>count=%{y}<extra></extra>\", \"legendgroup\": \"\", \"marker\": {\"color\": \"#636efa\"}, \"name\": \"\", \"offsetgroup\": \"\", \"orientation\": \"v\", \"showlegend\": false, \"type\": \"histogram\", \"x\": [0.005780346820809248, 0.005780346820809248, 0.002890173410404624, 0.008670520231213872, 0.005780346820809248, 0.008670520231213872, 0.005780346820809248, 0.002890173410404624, 0.002890173410404624, 0.002890173410404624, 0.011560693641618497, 0.002890173410404624, 0.005780346820809248, 0.002890173410404624, 0.002890173410404624, 0.002890173410404624, 0.014450867052023121, 0.002890173410404624, 0.005780346820809248, 0.002890173410404624, 0.002890173410404624, 0.017341040462427744, 0.014450867052023121, 0.011560693641618497, 0.03468208092485549, 0.005780346820809248, 0.026011560693641616, 0.005780346820809248, 0.002890173410404624, 0.002890173410404624, 0.014450867052023121, 0.002890173410404624, 0.002890173410404624, 0.002890173410404624, 0.002890173410404624, 0.002890173410404624, 0.005780346820809248, 0.002890173410404624, 0.002890173410404624, 0.002890173410404624, 0.002890173410404624, 0.002890173410404624, 0.005780346820809248, 0.005780346820809248, 0.008670520231213872, 0.011560693641618497, 0.008670520231213872, 0.008670520231213872, 0.005780346820809248, 0.017341040462427744, 0.002890173410404624, 0.008670520231213872, 0.005780346820809248, 0.005780346820809248, 0.014450867052023121, 0.008670520231213872, 0.014450867052023121, 0.005780346820809248, 0.028901734104046242, 0.002890173410404624, 0.02023121387283237, 0.002890173410404624, 0.005780346820809248, 0.002890173410404624, 0.011560693641618497, 0.002890173410404624, 0.005780346820809248, 0.008670520231213872, 0.002890173410404624, 0.014450867052023121, 0.002890173410404624, 0.008670520231213872, 0.002890173410404624, 0.002890173410404624, 0.002890173410404624, 0.002890173410404624, 0.002890173410404624, 0.002890173410404624, 0.005780346820809248, 0.002890173410404624, 0.002890173410404624, 0.002890173410404624, 0.002890173410404624, 0.002890173410404624, 0.005780346820809248, 0.002890173410404624, 0.002890173410404624, 0.002890173410404624, 0.014450867052023121, 0.002890173410404624, 0.002890173410404624, 0.005780346820809248, 0.002890173410404624, 0.008670520231213872, 0.005780346820809248, 0.002890173410404624, 0.008670520231213872, 0.008670520231213872, 0.005780346820809248, 0.008670520231213872, 0.005780346820809248, 0.008670520231213872, 0.005780346820809248, 0.002890173410404624, 0.005780346820809248, 0.002890173410404624, 0.014450867052023121, 0.002890173410404624, 0.005780346820809248, 0.002890173410404624, 0.005780346820809248, 0.005780346820809248, 0.002890173410404624, 0.005780346820809248, 0.002890173410404624, 0.002890173410404624, 0.002890173410404624, 0.002890173410404624, 0.008670520231213872, 0.002890173410404624, 0.002890173410404624, 0.023121387283236993, 0.002890173410404624, 0.008670520231213872, 0.005780346820809248, 0.002890173410404624, 0.017341040462427744, 0.008670520231213872, 0.011560693641618497, 0.005780346820809248, 0.005780346820809248, 0.023121387283236993, 0.002890173410404624, 0.002890173410404624, 0.008670520231213872, 0.014450867052023121, 0.002890173410404624, 0.008670520231213872, 0.005780346820809248, 0.002890173410404624, 0.005780346820809248, 0.002890173410404624, 0.005780346820809248, 0.005780346820809248, 0.002890173410404624, 0.005780346820809248, 0.002890173410404624, 0.014450867052023121, 0.002890173410404624, 0.002890173410404624, 0.005780346820809248, 0.002890173410404624, 0.002890173410404624, 0.011560693641618497, 0.002890173410404624, 0.014450867052023121, 0.005780346820809248, 0.002890173410404624, 0.002890173410404624, 0.002890173410404624, 0.005780346820809248, 0.002890173410404624, 0.002890173410404624, 0.002890173410404624, 0.002890173410404624, 0.017341040462427744, 0.002890173410404624, 0.005780346820809248, 0.011560693641618497, 0.008670520231213872, 0.014450867052023121, 0.005780346820809248, 0.005780346820809248, 0.005780346820809248, 0.002890173410404624, 0.014450867052023121, 0.002890173410404624, 0.002890173410404624, 0.005780346820809248, 0.002890173410404624, 0.002890173410404624, 0.005780346820809248, 0.002890173410404624, 0.005780346820809248, 0.005780346820809248, 0.008670520231213872, 0.008670520231213872, 0.008670520231213872, 0.005780346820809248, 0.002890173410404624, 0.005780346820809248, 0.002890173410404624, 0.005780346820809248, 0.014450867052023121, 0.014450867052023121, 0.014450867052023121, 0.011560693641618497, 0.014450867052023121, 0.002890173410404624, 0.011560693641618497, 0.002890173410404624, 0.002890173410404624, 0.008670520231213872, 0.002890173410404624, 0.011560693641618497, 0.002890173410404624, 0.005780346820809248, 0.005780346820809248, 0.002890173410404624, 0.002890173410404624, 0.002890173410404624, 0.002890173410404624, 0.014450867052023121, 0.005780346820809248, 0.014450867052023121, 0.002890173410404624, 0.005780346820809248, 0.002890173410404624, 0.002890173410404624, 0.002890173410404624, 0.002890173410404624, 0.017341040462427744, 0.005780346820809248, 0.005780346820809248, 0.005780346820809248, 0.008670520231213872, 0.005780346820809248, 0.002890173410404624, 0.002890173410404624, 0.002890173410404624, 0.002890173410404624, 0.005780346820809248, 0.002890173410404624, 0.002890173410404624, 0.002890173410404624, 0.002890173410404624, 0.002890173410404624, 0.002890173410404624, 0.005780346820809248, 0.008670520231213872, 0.005780346820809248, 0.005780346820809248, 0.005780346820809248, 0.005780346820809248, 0.005780346820809248, 0.002890173410404624, 0.002890173410404624, 0.002890173410404624, 0.005780346820809248, 0.002890173410404624, 0.002890173410404624, 0.002890173410404624, 0.002890173410404624, 0.008670520231213872, 0.005780346820809248, 0.002890173410404624, 0.002890173410404624, 0.002890173410404624, 0.008670520231213872, 0.002890173410404624, 0.002890173410404624, 0.005780346820809248, 0.008670520231213872, 0.002890173410404624, 0.002890173410404624, 0.002890173410404624, 0.005780346820809248, 0.002890173410404624, 0.002890173410404624, 0.002890173410404624, 0.011560693641618497, 0.002890173410404624, 0.002890173410404624, 0.002890173410404624, 0.002890173410404624, 0.002890173410404624, 0.005780346820809248, 0.002890173410404624, 0.002890173410404624, 0.002890173410404624, 0.002890173410404624, 0.002890173410404624, 0.005780346820809248, 0.002890173410404624, 0.005780346820809248, 0.008670520231213872, 0.008670520231213872, 0.002890173410404624, 0.005780346820809248, 0.005780346820809248, 0.002890173410404624, 0.008670520231213872, 0.002890173410404624, 0.002890173410404624, 0.002890173410404624, 0.002890173410404624, 0.002890173410404624, 0.002890173410404624, 0.002890173410404624, 0.005780346820809248, 0.008670520231213872, 0.002890173410404624, 0.002890173410404624, 0.011560693641618497, 0.002890173410404624, 0.002890173410404624, 0.002890173410404624, 0.002890173410404624, 0.008670520231213872, 0.002890173410404624, 0.008670520231213872, 0.005780346820809248, 0.002890173410404624, 0.011560693641618497, 0.002890173410404624, 0.002890173410404624, 0.002890173410404624, 0.005780346820809248, 0.002890173410404624, 0.002890173410404624, 0.002890173410404624, 0.002890173410404624, 0.002890173410404624, 0.005780346820809248, 0.002890173410404624, 0.005780346820809248, 0.005780346820809248, 0.002890173410404624, 0.002890173410404624, 0.002890173410404624, 0.002890173410404624, 0.005780346820809248, 0.005780346820809248, 0.002890173410404624, 0.005780346820809248, 0.002890173410404624, 0.002890173410404624, 0.002890173410404624, 0.002890173410404624, 0.002890173410404624, 0.005780346820809248, 0.002890173410404624, 0.002890173410404624, 0.002890173410404624, 0.002890173410404624, 0.002890173410404624, 0.002890173410404624], \"xaxis\": \"x\", \"yaxis\": \"y\"}],                        {\"barmode\": \"relative\", \"legend\": {\"tracegroupgap\": 0}, \"template\": {\"data\": {\"bar\": [{\"error_x\": {\"color\": \"#2a3f5f\"}, \"error_y\": {\"color\": \"#2a3f5f\"}, \"marker\": {\"line\": {\"color\": \"#E5ECF6\", \"width\": 0.5}}, \"type\": \"bar\"}], \"barpolar\": [{\"marker\": {\"line\": {\"color\": \"#E5ECF6\", \"width\": 0.5}}, \"type\": \"barpolar\"}], \"carpet\": [{\"aaxis\": {\"endlinecolor\": \"#2a3f5f\", \"gridcolor\": \"white\", \"linecolor\": \"white\", \"minorgridcolor\": \"white\", \"startlinecolor\": \"#2a3f5f\"}, \"baxis\": {\"endlinecolor\": \"#2a3f5f\", \"gridcolor\": \"white\", \"linecolor\": \"white\", \"minorgridcolor\": \"white\", \"startlinecolor\": \"#2a3f5f\"}, \"type\": \"carpet\"}], \"choropleth\": [{\"colorbar\": {\"outlinewidth\": 0, \"ticks\": \"\"}, \"type\": \"choropleth\"}], \"contour\": [{\"colorbar\": {\"outlinewidth\": 0, \"ticks\": \"\"}, \"colorscale\": [[0.0, \"#0d0887\"], [0.1111111111111111, \"#46039f\"], [0.2222222222222222, \"#7201a8\"], [0.3333333333333333, \"#9c179e\"], [0.4444444444444444, \"#bd3786\"], [0.5555555555555556, \"#d8576b\"], [0.6666666666666666, \"#ed7953\"], [0.7777777777777778, \"#fb9f3a\"], [0.8888888888888888, \"#fdca26\"], [1.0, \"#f0f921\"]], \"type\": \"contour\"}], \"contourcarpet\": [{\"colorbar\": {\"outlinewidth\": 0, \"ticks\": \"\"}, \"type\": \"contourcarpet\"}], \"heatmap\": [{\"colorbar\": {\"outlinewidth\": 0, \"ticks\": \"\"}, \"colorscale\": [[0.0, \"#0d0887\"], [0.1111111111111111, \"#46039f\"], [0.2222222222222222, \"#7201a8\"], [0.3333333333333333, \"#9c179e\"], [0.4444444444444444, \"#bd3786\"], [0.5555555555555556, \"#d8576b\"], [0.6666666666666666, \"#ed7953\"], [0.7777777777777778, \"#fb9f3a\"], [0.8888888888888888, \"#fdca26\"], [1.0, \"#f0f921\"]], \"type\": \"heatmap\"}], \"heatmapgl\": [{\"colorbar\": {\"outlinewidth\": 0, \"ticks\": \"\"}, \"colorscale\": [[0.0, \"#0d0887\"], [0.1111111111111111, \"#46039f\"], [0.2222222222222222, \"#7201a8\"], [0.3333333333333333, \"#9c179e\"], [0.4444444444444444, \"#bd3786\"], [0.5555555555555556, \"#d8576b\"], [0.6666666666666666, \"#ed7953\"], [0.7777777777777778, \"#fb9f3a\"], [0.8888888888888888, \"#fdca26\"], [1.0, \"#f0f921\"]], \"type\": \"heatmapgl\"}], \"histogram\": [{\"marker\": {\"colorbar\": {\"outlinewidth\": 0, \"ticks\": \"\"}}, \"type\": \"histogram\"}], \"histogram2d\": [{\"colorbar\": {\"outlinewidth\": 0, \"ticks\": \"\"}, \"colorscale\": [[0.0, \"#0d0887\"], [0.1111111111111111, \"#46039f\"], [0.2222222222222222, \"#7201a8\"], [0.3333333333333333, \"#9c179e\"], [0.4444444444444444, \"#bd3786\"], [0.5555555555555556, \"#d8576b\"], [0.6666666666666666, \"#ed7953\"], [0.7777777777777778, \"#fb9f3a\"], [0.8888888888888888, \"#fdca26\"], [1.0, \"#f0f921\"]], \"type\": \"histogram2d\"}], \"histogram2dcontour\": [{\"colorbar\": {\"outlinewidth\": 0, \"ticks\": \"\"}, \"colorscale\": [[0.0, \"#0d0887\"], [0.1111111111111111, \"#46039f\"], [0.2222222222222222, \"#7201a8\"], [0.3333333333333333, \"#9c179e\"], [0.4444444444444444, \"#bd3786\"], [0.5555555555555556, \"#d8576b\"], [0.6666666666666666, \"#ed7953\"], [0.7777777777777778, \"#fb9f3a\"], [0.8888888888888888, \"#fdca26\"], [1.0, \"#f0f921\"]], \"type\": \"histogram2dcontour\"}], \"mesh3d\": [{\"colorbar\": {\"outlinewidth\": 0, \"ticks\": \"\"}, \"type\": \"mesh3d\"}], \"parcoords\": [{\"line\": {\"colorbar\": {\"outlinewidth\": 0, \"ticks\": \"\"}}, \"type\": \"parcoords\"}], \"pie\": [{\"automargin\": true, \"type\": \"pie\"}], \"scatter\": [{\"marker\": {\"colorbar\": {\"outlinewidth\": 0, \"ticks\": \"\"}}, \"type\": \"scatter\"}], \"scatter3d\": [{\"line\": {\"colorbar\": {\"outlinewidth\": 0, \"ticks\": \"\"}}, \"marker\": {\"colorbar\": {\"outlinewidth\": 0, \"ticks\": \"\"}}, \"type\": \"scatter3d\"}], \"scattercarpet\": [{\"marker\": {\"colorbar\": {\"outlinewidth\": 0, \"ticks\": \"\"}}, \"type\": \"scattercarpet\"}], \"scattergeo\": [{\"marker\": {\"colorbar\": {\"outlinewidth\": 0, \"ticks\": \"\"}}, \"type\": \"scattergeo\"}], \"scattergl\": [{\"marker\": {\"colorbar\": {\"outlinewidth\": 0, \"ticks\": \"\"}}, \"type\": \"scattergl\"}], \"scattermapbox\": [{\"marker\": {\"colorbar\": {\"outlinewidth\": 0, \"ticks\": \"\"}}, \"type\": \"scattermapbox\"}], \"scatterpolar\": [{\"marker\": {\"colorbar\": {\"outlinewidth\": 0, \"ticks\": \"\"}}, \"type\": \"scatterpolar\"}], \"scatterpolargl\": [{\"marker\": {\"colorbar\": {\"outlinewidth\": 0, \"ticks\": \"\"}}, \"type\": \"scatterpolargl\"}], \"scatterternary\": [{\"marker\": {\"colorbar\": {\"outlinewidth\": 0, \"ticks\": \"\"}}, \"type\": \"scatterternary\"}], \"surface\": [{\"colorbar\": {\"outlinewidth\": 0, \"ticks\": \"\"}, \"colorscale\": [[0.0, \"#0d0887\"], [0.1111111111111111, \"#46039f\"], [0.2222222222222222, \"#7201a8\"], [0.3333333333333333, \"#9c179e\"], [0.4444444444444444, \"#bd3786\"], [0.5555555555555556, \"#d8576b\"], [0.6666666666666666, \"#ed7953\"], [0.7777777777777778, \"#fb9f3a\"], [0.8888888888888888, \"#fdca26\"], [1.0, \"#f0f921\"]], \"type\": \"surface\"}], \"table\": [{\"cells\": {\"fill\": {\"color\": \"#EBF0F8\"}, \"line\": {\"color\": \"white\"}}, \"header\": {\"fill\": {\"color\": \"#C8D4E3\"}, \"line\": {\"color\": \"white\"}}, \"type\": \"table\"}]}, \"layout\": {\"annotationdefaults\": {\"arrowcolor\": \"#2a3f5f\", \"arrowhead\": 0, \"arrowwidth\": 1}, \"autotypenumbers\": \"strict\", \"coloraxis\": {\"colorbar\": {\"outlinewidth\": 0, \"ticks\": \"\"}}, \"colorscale\": {\"diverging\": [[0, \"#8e0152\"], [0.1, \"#c51b7d\"], [0.2, \"#de77ae\"], [0.3, \"#f1b6da\"], [0.4, \"#fde0ef\"], [0.5, \"#f7f7f7\"], [0.6, \"#e6f5d0\"], [0.7, \"#b8e186\"], [0.8, \"#7fbc41\"], [0.9, \"#4d9221\"], [1, \"#276419\"]], \"sequential\": [[0.0, \"#0d0887\"], [0.1111111111111111, \"#46039f\"], [0.2222222222222222, \"#7201a8\"], [0.3333333333333333, \"#9c179e\"], [0.4444444444444444, \"#bd3786\"], [0.5555555555555556, \"#d8576b\"], [0.6666666666666666, \"#ed7953\"], [0.7777777777777778, \"#fb9f3a\"], [0.8888888888888888, \"#fdca26\"], [1.0, \"#f0f921\"]], \"sequentialminus\": [[0.0, \"#0d0887\"], [0.1111111111111111, \"#46039f\"], [0.2222222222222222, \"#7201a8\"], [0.3333333333333333, \"#9c179e\"], [0.4444444444444444, \"#bd3786\"], [0.5555555555555556, \"#d8576b\"], [0.6666666666666666, \"#ed7953\"], [0.7777777777777778, \"#fb9f3a\"], [0.8888888888888888, \"#fdca26\"], [1.0, \"#f0f921\"]]}, \"colorway\": [\"#636efa\", \"#EF553B\", \"#00cc96\", \"#ab63fa\", \"#FFA15A\", \"#19d3f3\", \"#FF6692\", \"#B6E880\", \"#FF97FF\", \"#FECB52\"], \"font\": {\"color\": \"#2a3f5f\"}, \"geo\": {\"bgcolor\": \"white\", \"lakecolor\": \"white\", \"landcolor\": \"#E5ECF6\", \"showlakes\": true, \"showland\": true, \"subunitcolor\": \"white\"}, \"hoverlabel\": {\"align\": \"left\"}, \"hovermode\": \"closest\", \"mapbox\": {\"style\": \"light\"}, \"paper_bgcolor\": \"white\", \"plot_bgcolor\": \"#E5ECF6\", \"polar\": {\"angularaxis\": {\"gridcolor\": \"white\", \"linecolor\": \"white\", \"ticks\": \"\"}, \"bgcolor\": \"#E5ECF6\", \"radialaxis\": {\"gridcolor\": \"white\", \"linecolor\": \"white\", \"ticks\": \"\"}}, \"scene\": {\"xaxis\": {\"backgroundcolor\": \"#E5ECF6\", \"gridcolor\": \"white\", \"gridwidth\": 2, \"linecolor\": \"white\", \"showbackground\": true, \"ticks\": \"\", \"zerolinecolor\": \"white\"}, \"yaxis\": {\"backgroundcolor\": \"#E5ECF6\", \"gridcolor\": \"white\", \"gridwidth\": 2, \"linecolor\": \"white\", \"showbackground\": true, \"ticks\": \"\", \"zerolinecolor\": \"white\"}, \"zaxis\": {\"backgroundcolor\": \"#E5ECF6\", \"gridcolor\": \"white\", \"gridwidth\": 2, \"linecolor\": \"white\", \"showbackground\": true, \"ticks\": \"\", \"zerolinecolor\": \"white\"}}, \"shapedefaults\": {\"line\": {\"color\": \"#2a3f5f\"}}, \"ternary\": {\"aaxis\": {\"gridcolor\": \"white\", \"linecolor\": \"white\", \"ticks\": \"\"}, \"baxis\": {\"gridcolor\": \"white\", \"linecolor\": \"white\", \"ticks\": \"\"}, \"bgcolor\": \"#E5ECF6\", \"caxis\": {\"gridcolor\": \"white\", \"linecolor\": \"white\", \"ticks\": \"\"}}, \"title\": {\"x\": 0.05}, \"xaxis\": {\"automargin\": true, \"gridcolor\": \"white\", \"linecolor\": \"white\", \"ticks\": \"\", \"title\": {\"standoff\": 15}, \"zerolinecolor\": \"white\", \"zerolinewidth\": 2}, \"yaxis\": {\"automargin\": true, \"gridcolor\": \"white\", \"linecolor\": \"white\", \"ticks\": \"\", \"title\": {\"standoff\": 15}, \"zerolinecolor\": \"white\", \"zerolinewidth\": 2}}}, \"title\": {\"text\": \"Centrality Measures\"}, \"xaxis\": {\"anchor\": \"y\", \"domain\": [0.0, 1.0], \"title\": {\"text\": \"frequency\"}}, \"yaxis\": {\"anchor\": \"x\", \"domain\": [0.0, 1.0], \"title\": {\"text\": \"count\"}}},                        {\"responsive\": true}                    ).then(function(){\n",
       "                            \n",
       "var gd = document.getElementById('c4f164a7-ec77-4ea8-8d83-487606737c84');\n",
       "var x = new MutationObserver(function (mutations, observer) {{\n",
       "        var display = window.getComputedStyle(gd).display;\n",
       "        if (!display || display === 'none') {{\n",
       "            console.log([gd, 'removed!']);\n",
       "            Plotly.purge(gd);\n",
       "            observer.disconnect();\n",
       "        }}\n",
       "}});\n",
       "\n",
       "// Listen for the removal of the full notebook cells\n",
       "var notebookContainer = gd.closest('#notebook-container');\n",
       "if (notebookContainer) {{\n",
       "    x.observe(notebookContainer, {childList: true});\n",
       "}}\n",
       "\n",
       "// Listen for the clearing of the current output cell\n",
       "var outputEl = gd.closest('.output');\n",
       "if (outputEl) {{\n",
       "    x.observe(outputEl, {childList: true});\n",
       "}}\n",
       "\n",
       "                        })                };                });            </script>        </div>"
      ]
     },
     "metadata": {},
     "output_type": "display_data"
    }
   ],
   "source": [
    "createCentralityHist(g)"
   ]
  },
  {
   "cell_type": "code",
   "execution_count": null,
   "metadata": {},
   "outputs": [],
   "source": []
  }
 ],
 "metadata": {
  "kernelspec": {
   "display_name": "Python 3",
   "language": "python",
   "name": "python3"
  },
  "language_info": {
   "codemirror_mode": {
    "name": "ipython",
    "version": 3
   },
   "file_extension": ".py",
   "mimetype": "text/x-python",
   "name": "python",
   "nbconvert_exporter": "python",
   "pygments_lexer": "ipython3",
   "version": "3.8.3"
  }
 },
 "nbformat": 4,
 "nbformat_minor": 4
}
